{
 "cells": [
  {
   "cell_type": "code",
   "execution_count": 48,
   "metadata": {},
   "outputs": [],
   "source": [
    "import numpy as np\n",
    "from scipy import io, integrate, linalg, signal\n",
    "from scipy.sparse.linalg import cg, eigs"
   ]
  },
  {
   "attachments": {},
   "cell_type": "markdown",
   "metadata": {},
   "source": [
    "# Capítulo 5"
   ]
  },
  {
   "attachments": {},
   "cell_type": "markdown",
   "metadata": {},
   "source": [
    "## Exemplo 5.1"
   ]
  },
  {
   "cell_type": "code",
   "execution_count": 49,
   "metadata": {},
   "outputs": [
    {
     "name": "stdout",
     "output_type": "stream",
     "text": [
      "[9.57142857 8.5        8.5       ]\n"
     ]
    }
   ],
   "source": [
    "A = np.array([[-7, 0, 2], [7, -8, 0], [0, 8, -8]])\n",
    "B = np.array([-50, -1, 0])\n",
    "C = linalg.solve(A, B)\n",
    "print(C)"
   ]
  },
  {
   "attachments": {},
   "cell_type": "markdown",
   "metadata": {},
   "source": [
    "## Exemplo 5.2"
   ]
  },
  {
   "cell_type": "code",
   "execution_count": 50,
   "metadata": {},
   "outputs": [
    {
     "name": "stdout",
     "output_type": "stream",
     "text": [
      "[34.17536221 42.80834772 51.09601381]\n"
     ]
    }
   ],
   "source": [
    "A = np.array([[-250, 0, 40], [240, -250, 0], [0, 240, -250]])\n",
    "B = np.array([-6500, -2500, -2500])\n",
    "# T = linalg.solve(A, B)\n",
    "T = linalg.inv(A) @ B\n",
    "print(T)"
   ]
  },
  {
   "attachments": {},
   "cell_type": "markdown",
   "metadata": {},
   "source": [
    "## Newton-Rhapson para Sistemas de Equações Não Lineares"
   ]
  },
  {
   "cell_type": "code",
   "execution_count": 51,
   "metadata": {},
   "outputs": [],
   "source": [
    "def newton_rhapson(f, df, x_est, i_max=20):\n",
    "    x = [list(x_est)]\n",
    "    for i in range(i_max):\n",
    "        X = np.array(x[i])\n",
    "        dF = np.array(df(X))\n",
    "        F = np.array(f(X))\n",
    "        X = X - linalg.inv(dF) @ F\n",
    "        x.append(list(X))\n",
    "    return x"
   ]
  },
  {
   "attachments": {},
   "cell_type": "markdown",
   "metadata": {},
   "source": [
    "## Exemplo da Seção 5.2.1"
   ]
  },
  {
   "cell_type": "code",
   "execution_count": 52,
   "metadata": {},
   "outputs": [],
   "source": [
    "def f(x):\n",
    "    Ca = x[0]\n",
    "    Cb = x[1]\n",
    "    u = Ca + 0.06*Ca*Cb - 200\n",
    "    v = Cb + 0.06*Ca*Cb - 200\n",
    "    return [u, v]\n",
    "\n",
    "def df(x):\n",
    "    Ca = x[0]\n",
    "    Cb = x[1]\n",
    "    du_dCa = 1 + 0.06*Cb\n",
    "    du_dCb = 0.06 * Ca\n",
    "    dv_dCa = 0.06 * Cb\n",
    "    dv_dCb = 1 + 0.06*Ca\n",
    "    return [[du_dCa, du_dCb], [dv_dCa, dv_dCb]]"
   ]
  },
  {
   "cell_type": "code",
   "execution_count": 53,
   "metadata": {},
   "outputs": [
    {
     "name": "stdout",
     "output_type": "stream",
     "text": [
      "0 [200, 200]\n",
      "1 [103.99999999999977, 104.0]\n",
      "2 [62.979228486646804, 62.97922848664683]\n",
      "3 [51.18114093652843, 51.18114093652841]\n",
      "4 [50.011720627032815, 50.01172062703282]\n",
      "5 [50.00000117724716, 50.000001177247164]\n",
      "6 [50.000000000000014, 50.00000000000002]\n"
     ]
    }
   ],
   "source": [
    "C = newton_rhapson(f, df, [200, 200], 6)\n",
    "for i, v in enumerate(C):\n",
    "    print(i, v)"
   ]
  },
  {
   "attachments": {},
   "cell_type": "markdown",
   "metadata": {},
   "source": [
    "### Problema Proposto 5.1"
   ]
  },
  {
   "cell_type": "code",
   "execution_count": 55,
   "metadata": {},
   "outputs": [
    {
     "name": "stdout",
     "output_type": "stream",
     "text": [
      "[10.08403361 75.6302521  14.28571429]\n",
      "100.0\n"
     ]
    }
   ],
   "source": [
    "A = np.array([[0.50, 0.33, 0], [0.50, 0.33, 0.70], [0, 0.34, 0.30]])\n",
    "B = np.array([0.30, 0.40, 0.30]) * 100\n",
    "F = linalg.inv(A) @ B\n",
    "print(F)\n",
    "print(sum(F))"
   ]
  }
 ],
 "metadata": {
  "kernelspec": {
   "display_name": "Python 3",
   "language": "python",
   "name": "python3"
  },
  "language_info": {
   "codemirror_mode": {
    "name": "ipython",
    "version": 3
   },
   "file_extension": ".py",
   "mimetype": "text/x-python",
   "name": "python",
   "nbconvert_exporter": "python",
   "pygments_lexer": "ipython3",
   "version": "3.10.6"
  },
  "orig_nbformat": 4
 },
 "nbformat": 4,
 "nbformat_minor": 2
}
