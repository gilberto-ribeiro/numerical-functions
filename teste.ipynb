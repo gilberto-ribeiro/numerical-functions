{
 "cells": [
  {
   "cell_type": "code",
   "execution_count": 60,
   "metadata": {},
   "outputs": [],
   "source": [
    "import numpy as np\n",
    "from scipy import io, integrate, linalg, signal\n",
    "from scipy.sparse.linalg import cg, eigs\n",
    "import matplotlib as mpl\n",
    "import matplotlib.pyplot as plt"
   ]
  },
  {
   "attachments": {},
   "cell_type": "markdown",
   "metadata": {},
   "source": [
    "# Capítulo 5"
   ]
  },
  {
   "attachments": {},
   "cell_type": "markdown",
   "metadata": {},
   "source": [
    "## Exemplo 5.1"
   ]
  },
  {
   "cell_type": "code",
   "execution_count": 61,
   "metadata": {},
   "outputs": [
    {
     "name": "stdout",
     "output_type": "stream",
     "text": [
      "[9.57142857 8.5        8.5       ]\n"
     ]
    }
   ],
   "source": [
    "A = np.array([[-7, 0, 2], [7, -8, 0], [0, 8, -8]])\n",
    "B = np.array([-50, -1, 0])\n",
    "C = linalg.solve(A, B)\n",
    "print(C)"
   ]
  },
  {
   "attachments": {},
   "cell_type": "markdown",
   "metadata": {},
   "source": [
    "## Exemplo 5.2"
   ]
  },
  {
   "cell_type": "code",
   "execution_count": 62,
   "metadata": {},
   "outputs": [
    {
     "name": "stdout",
     "output_type": "stream",
     "text": [
      "[34.17536221 42.80834772 51.09601381]\n"
     ]
    }
   ],
   "source": [
    "A = np.array([[-250, 0, 40], [240, -250, 0], [0, 240, -250]])\n",
    "B = np.array([-6500, -2500, -2500])\n",
    "# T = linalg.solve(A, B)\n",
    "T = linalg.inv(A) @ B\n",
    "print(T)"
   ]
  },
  {
   "attachments": {},
   "cell_type": "markdown",
   "metadata": {},
   "source": [
    "## Newton-Rhapson para Sistemas de Equações Não Lineares"
   ]
  },
  {
   "cell_type": "code",
   "execution_count": 63,
   "metadata": {},
   "outputs": [],
   "source": [
    "def newton_rhapson(f, x_est, df = None, i_max = 20, dx = 1e-6):\n",
    "    x = [list(x_est)]\n",
    "    for i in range(i_max):\n",
    "        X = np.array(x[i])\n",
    "        if df is None:\n",
    "            dF = np.array(diff(f, x[i], dx))\n",
    "        else:\n",
    "            dF = np.array(df(X))\n",
    "        F = np.array(f(X))\n",
    "        X = X - linalg.inv(dF) @ F\n",
    "        x.append(list(X))\n",
    "    return x"
   ]
  },
  {
   "attachments": {},
   "cell_type": "markdown",
   "metadata": {},
   "source": [
    "## Diferenciação Numérica"
   ]
  },
  {
   "cell_type": "code",
   "execution_count": 64,
   "metadata": {},
   "outputs": [],
   "source": [
    "def diff(f, x, dx = 1e-6):\n",
    "    df = list()\n",
    "    x_orig = x.copy()\n",
    "    for i in range(len(x_orig)):\n",
    "        x[i] += dx\n",
    "        df.append((np.array(f(x)) - np.array(f(x_orig))) / dx)\n",
    "        x = x_orig.copy()\n",
    "    df = np.array(df).transpose()\n",
    "    df = [list(i) for i in df]\n",
    "    return df"
   ]
  },
  {
   "attachments": {},
   "cell_type": "markdown",
   "metadata": {},
   "source": [
    "## Exemplo da Seção 5.2.1"
   ]
  },
  {
   "cell_type": "code",
   "execution_count": 65,
   "metadata": {},
   "outputs": [],
   "source": [
    "def f(x):\n",
    "    Ca = x[0]\n",
    "    Cb = x[1]\n",
    "    u = Ca + 0.06*Ca*Cb - 200\n",
    "    v = Cb + 0.06*Ca*Cb - 200\n",
    "    return [u, v]\n",
    "\n",
    "def df(x):\n",
    "    Ca = x[0]\n",
    "    Cb = x[1]\n",
    "    du_dCa = 1 + 0.06*Cb\n",
    "    du_dCb = 0.06 * Ca\n",
    "    dv_dCa = 0.06 * Cb\n",
    "    dv_dCb = 1 + 0.06*Ca\n",
    "    return [[du_dCa, du_dCb], [dv_dCa, dv_dCb]]"
   ]
  },
  {
   "cell_type": "code",
   "execution_count": 66,
   "metadata": {},
   "outputs": [
    {
     "name": "stdout",
     "output_type": "stream",
     "text": [
      "0 [200, 200]\n",
      "1 [103.99999999999977, 104.0]\n",
      "2 [62.979228486646804, 62.97922848664683]\n",
      "3 [51.18114093652843, 51.18114093652841]\n",
      "4 [50.011720627032815, 50.01172062703282]\n",
      "5 [50.00000117724716, 50.000001177247164]\n",
      "6 [50.000000000000014, 50.00000000000002]\n"
     ]
    }
   ],
   "source": [
    "C = newton_rhapson(f, [200, 200], df, i_max = 6)\n",
    "for i, v in enumerate(C):\n",
    "    print(i, v)"
   ]
  },
  {
   "cell_type": "code",
   "execution_count": 67,
   "metadata": {},
   "outputs": [
    {
     "name": "stdout",
     "output_type": "stream",
     "text": [
      "[[13.0, 12.0], [12.0, 13.0]]\n",
      "[[12.99999999901047, 12.000000001535227], [11.999999996987754, 13.000000003557943]]\n"
     ]
    }
   ],
   "source": [
    "a = df([200, 200])\n",
    "print(a)\n",
    "b = diff(f, [200, 200], 1e-4)\n",
    "print(b)"
   ]
  },
  {
   "attachments": {},
   "cell_type": "markdown",
   "metadata": {},
   "source": [
    "### Problema Proposto 5.1"
   ]
  },
  {
   "cell_type": "code",
   "execution_count": 68,
   "metadata": {},
   "outputs": [
    {
     "name": "stdout",
     "output_type": "stream",
     "text": [
      "[[0.5  0.33 0.  ]\n",
      " [0.5  0.33 0.7 ]\n",
      " [0.   0.34 0.3 ]]\n"
     ]
    }
   ],
   "source": [
    "A = np.array([[0.50, 0.33, 0], [0.50, 0.33, 0.70], [0, 0.34, 0.30]])\n",
    "print(A)"
   ]
  },
  {
   "cell_type": "code",
   "execution_count": 69,
   "metadata": {},
   "outputs": [
    {
     "name": "stdout",
     "output_type": "stream",
     "text": [
      "[30. 40. 30.]\n"
     ]
    }
   ],
   "source": [
    "B = np.array([0.30, 0.40, 0.30]) * 100\n",
    "print(B)"
   ]
  },
  {
   "cell_type": "code",
   "execution_count": 70,
   "metadata": {},
   "outputs": [
    {
     "name": "stdout",
     "output_type": "stream",
     "text": [
      "[10.08403361 75.6302521  14.28571429]\n",
      "100.0\n"
     ]
    }
   ],
   "source": [
    "F = linalg.inv(A) @ B\n",
    "print(F)\n",
    "print(sum(F))"
   ]
  },
  {
   "attachments": {},
   "cell_type": "markdown",
   "metadata": {},
   "source": [
    "### Problema Proposto 5.2"
   ]
  },
  {
   "cell_type": "code",
   "execution_count": 71,
   "metadata": {},
   "outputs": [],
   "source": [
    "Qin, Q32, Q43 = 10, 5, 3\n",
    "V1, V2, V3, V4 = 25, 75, 100, 25\n",
    "k1, k2, k3, k4 = 0.075, 0.15, 0.4, 0.1\n",
    "Cain = 1"
   ]
  },
  {
   "cell_type": "code",
   "execution_count": 72,
   "metadata": {},
   "outputs": [
    {
     "name": "stdout",
     "output_type": "stream",
     "text": [
      "[[-1  0  0  0]\n",
      " [ 1 -1  0  0]\n",
      " [ 0  1 -1  0]\n",
      " [ 0  0  1 -1]]\n"
     ]
    }
   ],
   "source": [
    "A = np.array([\n",
    "    [-1, 0, 0, 0],\n",
    "    [1, -1, 0, 0],\n",
    "    [0, 1, -1, 0],\n",
    "    [0, 0, 1, -1]\n",
    "])\n",
    "print(A)"
   ]
  },
  {
   "cell_type": "code",
   "execution_count": 73,
   "metadata": {},
   "outputs": [
    {
     "name": "stdout",
     "output_type": "stream",
     "text": [
      "[-10  -5   2   3]\n"
     ]
    }
   ],
   "source": [
    "B = np.array([-Qin, -Q32, -Q43+Q32, Q43])\n",
    "print(B)"
   ]
  },
  {
   "cell_type": "code",
   "execution_count": 74,
   "metadata": {},
   "outputs": [
    {
     "name": "stdout",
     "output_type": "stream",
     "text": [
      "[10. 15. 13. 10.]\n"
     ]
    }
   ],
   "source": [
    "Q = linalg.inv(A) @ B\n",
    "print(Q)\n",
    "Q12, Q23, Q34, Qout = Q"
   ]
  },
  {
   "cell_type": "code",
   "execution_count": 75,
   "metadata": {},
   "outputs": [
    {
     "name": "stdout",
     "output_type": "stream",
     "text": [
      "[[-11.875   0.      0.      0.   ]\n",
      " [ 10.    -26.25    5.      0.   ]\n",
      " [  0.     15.    -58.      3.   ]\n",
      " [  0.      0.     13.    -15.5  ]]\n"
     ]
    }
   ],
   "source": [
    "A = np.array([\n",
    "    [-Q12-k1*V1, 0, 0, 0],\n",
    "    [Q12, -Q23-k2*V2, Q32, 0],\n",
    "    [0, Q23, -Q34-Q32-k3*V3, Q43],\n",
    "    [0, 0, Q34, -Qout-Q43-k4*V4]\n",
    "])\n",
    "print(A)"
   ]
  },
  {
   "cell_type": "code",
   "execution_count": 76,
   "metadata": {},
   "outputs": [
    {
     "name": "stdout",
     "output_type": "stream",
     "text": [
      "[-10   0   0   0]\n"
     ]
    }
   ],
   "source": [
    "B = np.array([-Qin*Cain, 0, 0, 0])\n",
    "print(B)"
   ]
  },
  {
   "cell_type": "code",
   "execution_count": 77,
   "metadata": {},
   "outputs": [
    {
     "name": "stdout",
     "output_type": "stream",
     "text": [
      "[0.84210526 0.33821858 0.091437   0.0766891 ]\n"
     ]
    }
   ],
   "source": [
    "C = linalg.inv(A) @ B\n",
    "print(C)"
   ]
  },
  {
   "attachments": {},
   "cell_type": "markdown",
   "metadata": {},
   "source": [
    "### Problema Proposto 5.3"
   ]
  },
  {
   "cell_type": "code",
   "execution_count": 78,
   "metadata": {},
   "outputs": [],
   "source": [
    "def f(x):\n",
    "    Ca, Cb, Cc, Cd = x\n",
    "    Cain, Cbin, Ccin, Cdin = 0.7, 0.4, 0, 0\n",
    "    F = 5 / 60\n",
    "    k = 0.855\n",
    "    V = 40\n",
    "    ua = F*(Cain - Ca) - k*Ca*Cb*V\n",
    "    ub = F*(Cbin - Cb) - k*Ca*Cb*V\n",
    "    uc = F*(Ccin - Cc) + k*Ca*Cb*V\n",
    "    ud = F*(Cdin - Cd) + k*Ca*Cb*V\n",
    "    return [ua, ub, uc, ud]"
   ]
  },
  {
   "cell_type": "code",
   "execution_count": 79,
   "metadata": {},
   "outputs": [],
   "source": [
    "def df(x):\n",
    "    Ca, Cb, Cc, Cd = x\n",
    "    # Cain, Cbin, Ccin, Cdin = 0.7, 0.4, 0, 0\n",
    "    F = 5 / 60\n",
    "    k = 0.855\n",
    "    V = 40\n",
    "    dua_dCa = -F - k*Cb*V\n",
    "    dua_dCb = -k*Ca*V\n",
    "    dua_dCc = 0\n",
    "    dua_dCd = 0\n",
    "    dub_dCa = -k*Cb*V\n",
    "    dub_dCb = -F - k*Ca*V\n",
    "    dub_dCc = 0\n",
    "    dub_dCd = 0\n",
    "    duc_dCa = k*Cb*V\n",
    "    duc_dCb = k*Ca*V\n",
    "    duc_dCc = -F\n",
    "    duc_dCd = 0\n",
    "    dud_dCa = k*Cb*V\n",
    "    dud_dCb = k*Ca*V\n",
    "    dud_dCc = 0\n",
    "    dud_dCd = -F\n",
    "    return [\n",
    "        [dua_dCa, dua_dCb, dua_dCc, dua_dCd],\n",
    "        [dub_dCa, dub_dCb, dub_dCc, dub_dCd],\n",
    "        [duc_dCa, duc_dCb, duc_dCc, duc_dCd],\n",
    "        [dud_dCa, dud_dCb, dud_dCc, dud_dCd]\n",
    "    ]"
   ]
  },
  {
   "cell_type": "code",
   "execution_count": 80,
   "metadata": {},
   "outputs": [
    {
     "name": "stdout",
     "output_type": "stream",
     "text": [
      "[[-13.763333333333335, -23.939999999999998, 0, 0], [-13.680000000000001, -24.02333333333333, 0, 0], [13.680000000000001, 23.939999999999998, -0.08333333333333333, 0], [13.680000000000001, 23.939999999999998, 0, -0.08333333333333333]]\n",
      "[[-13.76333333334756, -23.940000000006734, 0.0, 0.0], [-13.68000000001146, -24.023333333342833, 0.0, 0.0], [13.68000000001146, 23.940000000006734, -0.08333333333609971, 0.0], [13.68000000001146, 23.940000000006734, 0.0, -0.08333333333609971]]\n"
     ]
    }
   ],
   "source": [
    "x = [0.7, 0.4, 0, 0]\n",
    "a = df(x)\n",
    "print(a)\n",
    "b = diff(f, x, 1e-4)\n",
    "print(b)"
   ]
  },
  {
   "cell_type": "code",
   "execution_count": 81,
   "metadata": {},
   "outputs": [
    {
     "name": "stdout",
     "output_type": "stream",
     "text": [
      "0 [0.700001, 0.4, 0, 0]\n",
      "1 [0.44601815144756035, 0.14601715144754623, 0.253982848552468, 0.2539828485524609]\n",
      "2 [0.3375060578719658, 0.03750505787196501, 0.3624949421280341, 0.36249494154977135]\n",
      "3 [0.3063099380446022, 0.006308938023820709, 0.3936910619553986, 0.39369106195539816]\n",
      "4 [0.3032209555749126, 0.0032199555749126505, 0.39678004442508735, 0.39678004442508735]\n",
      "5 [0.3031900635814098, 0.0031890635814099183, 0.3968109364185901, 0.3968109364185901]\n",
      "6 [0.30319006049115854, 0.0031890604911586143, 0.3968109395088414, 0.3968109395088414]\n",
      "7 [0.3031900604911585, 0.003189060491158584, 0.39681093950884144, 0.39681093950884144]\n",
      "8 [0.3031900604911585, 0.003189060491158584, 0.39681093950884144, 0.39681093950884144]\n",
      "9 [0.3031900604911585, 0.003189060491158584, 0.39681093950884144, 0.39681093950884144]\n",
      "10 [0.3031890604911585, 0.003189060491158584, 0.39681093950884144, 0.39681093950884144]\n",
      "9.999999999177334e-07\n"
     ]
    }
   ],
   "source": [
    "C = newton_rhapson(f, [0.7, 0.4, 0, 0], i_max = 10)\n",
    "for i, v in enumerate(C):\n",
    "    print(i, v)\n",
    "print(sum(C[0]) - sum(C[-1]))"
   ]
  },
  {
   "attachments": {},
   "cell_type": "markdown",
   "metadata": {},
   "source": [
    "# Capítulo 6"
   ]
  },
  {
   "attachments": {},
   "cell_type": "markdown",
   "metadata": {},
   "source": [
    "Método de Euler"
   ]
  },
  {
   "cell_type": "code",
   "execution_count": 82,
   "metadata": {},
   "outputs": [],
   "source": [
    "# WIP\n",
    "def euler(f, IC, int, N=1000):\n",
    "    x = np.linspace(*int, N + 1)\n",
    "    h = x[1] - x[0]\n",
    "    y = np.array(IC.copy())\n",
    "    y_out = list()\n",
    "    for i in range(len(x)):\n",
    "        y_out.append(y)\n",
    "        k1 = h * np.array(f(x[i], y))\n",
    "        y = y + k1\n",
    "    \n",
    "    return x, np.array(y_out).transpose()"
   ]
  },
  {
   "cell_type": "code",
   "execution_count": 97,
   "metadata": {},
   "outputs": [],
   "source": [
    "def f(x, y):\n",
    "    t = x\n",
    "    V = y[0]\n",
    "    T = y[1]\n",
    "    Q = 0.5\n",
    "    Qin = 2 * Q\n",
    "    Qout1 = Q\n",
    "    Qout2 = Q # 0\n",
    "    Tin = 273.15 + 30\n",
    "    dV = Qin - (Qout1 + Qout2)\n",
    "    dT = (1 / V) * (Qin*Tin - (Qout1*T + Qout2*T) - T*dV)\n",
    "    return [dV, dT]"
   ]
  },
  {
   "cell_type": "code",
   "execution_count": 98,
   "metadata": {},
   "outputs": [],
   "source": [
    "x, y = euler(f, [10, 20+273.15], (0, 60), 5000)"
   ]
  },
  {
   "cell_type": "code",
   "execution_count": 100,
   "metadata": {},
   "outputs": [
    {
     "data": {
      "image/png": "[encoded data removed]",
      "text/plain": [
       "<Figure size 640x480 with 1 Axes>"
      ]
     },
     "metadata": {},
     "output_type": "display_data"
    },
    {
     "ename": "PermissionError",
     "evalue": "[Errno 13] Permission denied: 'fig.pdf'",
     "output_type": "error",
     "traceback": [
      "\u001b[1;31m---------------------------------------------------------------------------\u001b[0m",
      "\u001b[1;31mPermissionError\u001b[0m                           Traceback (most recent call last)",
      "Cell \u001b[1;32mIn[100], line 10\u001b[0m\n\u001b[0;32m      8\u001b[0m ax\u001b[39m.\u001b[39mlegend()\n\u001b[0;32m      9\u001b[0m plt\u001b[39m.\u001b[39mshow()\n\u001b[1;32m---> 10\u001b[0m fig\u001b[39m.\u001b[39;49msavefig(\u001b[39m'\u001b[39;49m\u001b[39mfig.pdf\u001b[39;49m\u001b[39m'\u001b[39;49m)\n",
      "File \u001b[1;32mc:\\Users\\Gilberto\\AppData\\Local\\Programs\\Python\\Python310\\lib\\site-packages\\matplotlib\\figure.py:3343\u001b[0m, in \u001b[0;36mFigure.savefig\u001b[1;34m(self, fname, transparent, **kwargs)\u001b[0m\n\u001b[0;32m   3339\u001b[0m     \u001b[39mfor\u001b[39;00m ax \u001b[39min\u001b[39;00m \u001b[39mself\u001b[39m\u001b[39m.\u001b[39maxes:\n\u001b[0;32m   3340\u001b[0m         stack\u001b[39m.\u001b[39menter_context(\n\u001b[0;32m   3341\u001b[0m             ax\u001b[39m.\u001b[39mpatch\u001b[39m.\u001b[39m_cm_set(facecolor\u001b[39m=\u001b[39m\u001b[39m'\u001b[39m\u001b[39mnone\u001b[39m\u001b[39m'\u001b[39m, edgecolor\u001b[39m=\u001b[39m\u001b[39m'\u001b[39m\u001b[39mnone\u001b[39m\u001b[39m'\u001b[39m))\n\u001b[1;32m-> 3343\u001b[0m \u001b[39mself\u001b[39m\u001b[39m.\u001b[39mcanvas\u001b[39m.\u001b[39mprint_figure(fname, \u001b[39m*\u001b[39m\u001b[39m*\u001b[39mkwargs)\n",
      "File \u001b[1;32mc:\\Users\\Gilberto\\AppData\\Local\\Programs\\Python\\Python310\\lib\\site-packages\\matplotlib\\backend_bases.py:2366\u001b[0m, in \u001b[0;36mFigureCanvasBase.print_figure\u001b[1;34m(self, filename, dpi, facecolor, edgecolor, orientation, format, bbox_inches, pad_inches, bbox_extra_artists, backend, **kwargs)\u001b[0m\n\u001b[0;32m   2362\u001b[0m \u001b[39mtry\u001b[39;00m:\n\u001b[0;32m   2363\u001b[0m     \u001b[39m# _get_renderer may change the figure dpi (as vector formats\u001b[39;00m\n\u001b[0;32m   2364\u001b[0m     \u001b[39m# force the figure dpi to 72), so we need to set it again here.\u001b[39;00m\n\u001b[0;32m   2365\u001b[0m     \u001b[39mwith\u001b[39;00m cbook\u001b[39m.\u001b[39m_setattr_cm(\u001b[39mself\u001b[39m\u001b[39m.\u001b[39mfigure, dpi\u001b[39m=\u001b[39mdpi):\n\u001b[1;32m-> 2366\u001b[0m         result \u001b[39m=\u001b[39m print_method(\n\u001b[0;32m   2367\u001b[0m             filename,\n\u001b[0;32m   2368\u001b[0m             facecolor\u001b[39m=\u001b[39mfacecolor,\n\u001b[0;32m   2369\u001b[0m             edgecolor\u001b[39m=\u001b[39medgecolor,\n\u001b[0;32m   2370\u001b[0m             orientation\u001b[39m=\u001b[39morientation,\n\u001b[0;32m   2371\u001b[0m             bbox_inches_restore\u001b[39m=\u001b[39m_bbox_inches_restore,\n\u001b[0;32m   2372\u001b[0m             \u001b[39m*\u001b[39m\u001b[39m*\u001b[39mkwargs)\n\u001b[0;32m   2373\u001b[0m \u001b[39mfinally\u001b[39;00m:\n\u001b[0;32m   2374\u001b[0m     \u001b[39mif\u001b[39;00m bbox_inches \u001b[39mand\u001b[39;00m restore_bbox:\n",
      "File \u001b[1;32mc:\\Users\\Gilberto\\AppData\\Local\\Programs\\Python\\Python310\\lib\\site-packages\\matplotlib\\backend_bases.py:2232\u001b[0m, in \u001b[0;36mFigureCanvasBase._switch_canvas_and_return_print_method.<locals>.<lambda>\u001b[1;34m(*args, **kwargs)\u001b[0m\n\u001b[0;32m   2228\u001b[0m     optional_kws \u001b[39m=\u001b[39m {  \u001b[39m# Passed by print_figure for other renderers.\u001b[39;00m\n\u001b[0;32m   2229\u001b[0m         \u001b[39m\"\u001b[39m\u001b[39mdpi\u001b[39m\u001b[39m\"\u001b[39m, \u001b[39m\"\u001b[39m\u001b[39mfacecolor\u001b[39m\u001b[39m\"\u001b[39m, \u001b[39m\"\u001b[39m\u001b[39medgecolor\u001b[39m\u001b[39m\"\u001b[39m, \u001b[39m\"\u001b[39m\u001b[39morientation\u001b[39m\u001b[39m\"\u001b[39m,\n\u001b[0;32m   2230\u001b[0m         \u001b[39m\"\u001b[39m\u001b[39mbbox_inches_restore\u001b[39m\u001b[39m\"\u001b[39m}\n\u001b[0;32m   2231\u001b[0m     skip \u001b[39m=\u001b[39m optional_kws \u001b[39m-\u001b[39m {\u001b[39m*\u001b[39minspect\u001b[39m.\u001b[39msignature(meth)\u001b[39m.\u001b[39mparameters}\n\u001b[1;32m-> 2232\u001b[0m     print_method \u001b[39m=\u001b[39m functools\u001b[39m.\u001b[39mwraps(meth)(\u001b[39mlambda\u001b[39;00m \u001b[39m*\u001b[39margs, \u001b[39m*\u001b[39m\u001b[39m*\u001b[39mkwargs: meth(\n\u001b[0;32m   2233\u001b[0m         \u001b[39m*\u001b[39margs, \u001b[39m*\u001b[39m\u001b[39m*\u001b[39m{k: v \u001b[39mfor\u001b[39;00m k, v \u001b[39min\u001b[39;00m kwargs\u001b[39m.\u001b[39mitems() \u001b[39mif\u001b[39;00m k \u001b[39mnot\u001b[39;00m \u001b[39min\u001b[39;00m skip}))\n\u001b[0;32m   2234\u001b[0m \u001b[39melse\u001b[39;00m:  \u001b[39m# Let third-parties do as they see fit.\u001b[39;00m\n\u001b[0;32m   2235\u001b[0m     print_method \u001b[39m=\u001b[39m meth\n",
      "File \u001b[1;32mc:\\Users\\Gilberto\\AppData\\Local\\Programs\\Python\\Python310\\lib\\site-packages\\matplotlib\\backends\\backend_pdf.py:2808\u001b[0m, in \u001b[0;36mFigureCanvasPdf.print_pdf\u001b[1;34m(self, filename, bbox_inches_restore, metadata)\u001b[0m\n\u001b[0;32m   2806\u001b[0m     file \u001b[39m=\u001b[39m filename\u001b[39m.\u001b[39m_file\n\u001b[0;32m   2807\u001b[0m \u001b[39melse\u001b[39;00m:\n\u001b[1;32m-> 2808\u001b[0m     file \u001b[39m=\u001b[39m PdfFile(filename, metadata\u001b[39m=\u001b[39;49mmetadata)\n\u001b[0;32m   2809\u001b[0m \u001b[39mtry\u001b[39;00m:\n\u001b[0;32m   2810\u001b[0m     file\u001b[39m.\u001b[39mnewPage(width, height)\n",
      "File \u001b[1;32mc:\\Users\\Gilberto\\AppData\\Local\\Programs\\Python\\Python310\\lib\\site-packages\\matplotlib\\backends\\backend_pdf.py:713\u001b[0m, in \u001b[0;36mPdfFile.__init__\u001b[1;34m(self, filename, metadata)\u001b[0m\n\u001b[0;32m    711\u001b[0m \u001b[39mself\u001b[39m\u001b[39m.\u001b[39moriginal_file_like \u001b[39m=\u001b[39m \u001b[39mNone\u001b[39;00m\n\u001b[0;32m    712\u001b[0m \u001b[39mself\u001b[39m\u001b[39m.\u001b[39mtell_base \u001b[39m=\u001b[39m \u001b[39m0\u001b[39m\n\u001b[1;32m--> 713\u001b[0m fh, opened \u001b[39m=\u001b[39m cbook\u001b[39m.\u001b[39;49mto_filehandle(filename, \u001b[39m\"\u001b[39;49m\u001b[39mwb\u001b[39;49m\u001b[39m\"\u001b[39;49m, return_opened\u001b[39m=\u001b[39;49m\u001b[39mTrue\u001b[39;49;00m)\n\u001b[0;32m    714\u001b[0m \u001b[39mif\u001b[39;00m \u001b[39mnot\u001b[39;00m opened:\n\u001b[0;32m    715\u001b[0m     \u001b[39mtry\u001b[39;00m:\n",
      "File \u001b[1;32mc:\\Users\\Gilberto\\AppData\\Local\\Programs\\Python\\Python310\\lib\\site-packages\\matplotlib\\cbook\\__init__.py:489\u001b[0m, in \u001b[0;36mto_filehandle\u001b[1;34m(fname, flag, return_opened, encoding)\u001b[0m\n\u001b[0;32m    487\u001b[0m         fh \u001b[39m=\u001b[39m bz2\u001b[39m.\u001b[39mBZ2File(fname, flag)\n\u001b[0;32m    488\u001b[0m     \u001b[39melse\u001b[39;00m:\n\u001b[1;32m--> 489\u001b[0m         fh \u001b[39m=\u001b[39m \u001b[39mopen\u001b[39;49m(fname, flag, encoding\u001b[39m=\u001b[39;49mencoding)\n\u001b[0;32m    490\u001b[0m     opened \u001b[39m=\u001b[39m \u001b[39mTrue\u001b[39;00m\n\u001b[0;32m    491\u001b[0m \u001b[39melif\u001b[39;00m \u001b[39mhasattr\u001b[39m(fname, \u001b[39m'\u001b[39m\u001b[39mseek\u001b[39m\u001b[39m'\u001b[39m):\n",
      "\u001b[1;31mPermissionError\u001b[0m: [Errno 13] Permission denied: 'fig.pdf'"
     ]
    }
   ],
   "source": [
    "fig, ax = plt.subplots()\n",
    "ax.plot(x, y[0], label='V', c='g')\n",
    "ax.plot(x, y[1]-273.15, label='T', c='k')\n",
    "ax.set_xlabel('Tempo [h]')\n",
    "ax.set_ylabel('Nível do tanque [m]')\n",
    "ax.set_title('Altura do tanque por tempo', family='cursive')\n",
    "ax.set_xlim((0, 60))\n",
    "ax.legend()\n",
    "plt.show()\n",
    "fig.savefig('fig.pdf')"
   ]
  }
 ],
 "metadata": {
  "kernelspec": {
   "display_name": "Python 3",
   "language": "python",
   "name": "python3"
  },
  "language_info": {
   "codemirror_mode": {
    "name": "ipython",
    "version": 3
   },
   "file_extension": ".py",
   "mimetype": "text/x-python",
   "name": "python",
   "nbconvert_exporter": "python",
   "pygments_lexer": "ipython3",
   "version": "3.10.6"
  },
  "orig_nbformat": 4
 },
 "nbformat": 4,
 "nbformat_minor": 2
}
