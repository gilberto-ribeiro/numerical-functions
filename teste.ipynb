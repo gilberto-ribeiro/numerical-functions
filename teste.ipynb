{
 "cells": [
  {
   "cell_type": "code",
   "execution_count": 1130,
   "metadata": {},
   "outputs": [],
   "source": [
    "import numpy as np\n",
    "from scipy import io, integrate, linalg, signal\n",
    "from scipy.sparse.linalg import cg, eigs"
   ]
  },
  {
   "attachments": {},
   "cell_type": "markdown",
   "metadata": {},
   "source": [
    "# Capítulo 5"
   ]
  },
  {
   "attachments": {},
   "cell_type": "markdown",
   "metadata": {},
   "source": [
    "## Exemplo 5.1"
   ]
  },
  {
   "cell_type": "code",
   "execution_count": 1131,
   "metadata": {},
   "outputs": [
    {
     "name": "stdout",
     "output_type": "stream",
     "text": [
      "[9.57142857 8.5        8.5       ]\n"
     ]
    }
   ],
   "source": [
    "A = np.array([[-7, 0, 2], [7, -8, 0], [0, 8, -8]])\n",
    "B = np.array([-50, -1, 0])\n",
    "C = linalg.solve(A, B)\n",
    "print(C)"
   ]
  },
  {
   "attachments": {},
   "cell_type": "markdown",
   "metadata": {},
   "source": [
    "## Exemplo 5.2"
   ]
  },
  {
   "cell_type": "code",
   "execution_count": 1132,
   "metadata": {},
   "outputs": [
    {
     "name": "stdout",
     "output_type": "stream",
     "text": [
      "[34.17536221 42.80834772 51.09601381]\n"
     ]
    }
   ],
   "source": [
    "A = np.array([[-250, 0, 40], [240, -250, 0], [0, 240, -250]])\n",
    "B = np.array([-6500, -2500, -2500])\n",
    "# T = linalg.solve(A, B)\n",
    "T = linalg.inv(A) @ B\n",
    "print(T)"
   ]
  },
  {
   "attachments": {},
   "cell_type": "markdown",
   "metadata": {},
   "source": [
    "## Newton-Rhapson para Sistemas de Equações Não Lineares"
   ]
  },
  {
   "cell_type": "code",
   "execution_count": 1133,
   "metadata": {},
   "outputs": [],
   "source": [
    "def newton_rhapson(f, x_est, df = None, i_max = 20, dx = 1e-6):\n",
    "    x = [list(x_est)]\n",
    "    for i in range(i_max):\n",
    "        X = np.array(x[i])\n",
    "        if df is None:\n",
    "            dF = np.array(diff(f, x[i], dx))\n",
    "        else:\n",
    "            dF = np.array(df(X))\n",
    "        F = np.array(f(X))\n",
    "        X = X - linalg.inv(dF) @ F\n",
    "        x.append(list(X))\n",
    "    return x"
   ]
  },
  {
   "attachments": {},
   "cell_type": "markdown",
   "metadata": {},
   "source": [
    "## Diferenciação Numérica"
   ]
  },
  {
   "cell_type": "code",
   "execution_count": 1134,
   "metadata": {},
   "outputs": [],
   "source": [
    "def diff(f, x, dx = 1e-6):\n",
    "    df = list()\n",
    "    x_orig = x.copy()\n",
    "    for i in range(len(x_orig)):\n",
    "        x[i] += dx\n",
    "        df.append((np.array(f(x)) - np.array(f(x_orig))) / dx)\n",
    "        x = x_orig.copy()\n",
    "    df = np.array(df).transpose()\n",
    "    df = [list(i) for i in df]\n",
    "    return df"
   ]
  },
  {
   "attachments": {},
   "cell_type": "markdown",
   "metadata": {},
   "source": [
    "## Exemplo da Seção 5.2.1"
   ]
  },
  {
   "cell_type": "code",
   "execution_count": 1135,
   "metadata": {},
   "outputs": [],
   "source": [
    "def f(x):\n",
    "    Ca = x[0]\n",
    "    Cb = x[1]\n",
    "    u = Ca + 0.06*Ca*Cb - 200\n",
    "    v = Cb + 0.06*Ca*Cb - 200\n",
    "    return [u, v]\n",
    "\n",
    "def df(x):\n",
    "    Ca = x[0]\n",
    "    Cb = x[1]\n",
    "    du_dCa = 1 + 0.06*Cb\n",
    "    du_dCb = 0.06 * Ca\n",
    "    dv_dCa = 0.06 * Cb\n",
    "    dv_dCb = 1 + 0.06*Ca\n",
    "    return [[du_dCa, du_dCb], [dv_dCa, dv_dCb]]"
   ]
  },
  {
   "cell_type": "code",
   "execution_count": 1136,
   "metadata": {},
   "outputs": [
    {
     "name": "stdout",
     "output_type": "stream",
     "text": [
      "0 [200, 200]\n",
      "1 [103.99999999999977, 104.0]\n",
      "2 [62.979228486646804, 62.97922848664683]\n",
      "3 [51.18114093652843, 51.18114093652841]\n",
      "4 [50.011720627032815, 50.01172062703282]\n",
      "5 [50.00000117724716, 50.000001177247164]\n",
      "6 [50.000000000000014, 50.00000000000002]\n"
     ]
    }
   ],
   "source": [
    "C = newton_rhapson(f, [200, 200], df, i_max = 6)\n",
    "for i, v in enumerate(C):\n",
    "    print(i, v)"
   ]
  },
  {
   "cell_type": "code",
   "execution_count": 1137,
   "metadata": {},
   "outputs": [
    {
     "name": "stdout",
     "output_type": "stream",
     "text": [
      "[[13.0, 12.0], [12.0, 13.0]]\n",
      "[[12.99999999901047, 12.000000001535227], [11.999999996987754, 13.000000003557943]]\n"
     ]
    }
   ],
   "source": [
    "a = df([200, 200])\n",
    "print(a)\n",
    "b = diff(f, [200, 200], 1e-4)\n",
    "print(b)"
   ]
  },
  {
   "attachments": {},
   "cell_type": "markdown",
   "metadata": {},
   "source": [
    "### Problema Proposto 5.1"
   ]
  },
  {
   "cell_type": "code",
   "execution_count": 1138,
   "metadata": {},
   "outputs": [
    {
     "name": "stdout",
     "output_type": "stream",
     "text": [
      "[[0.5  0.33 0.  ]\n",
      " [0.5  0.33 0.7 ]\n",
      " [0.   0.34 0.3 ]]\n"
     ]
    }
   ],
   "source": [
    "A = np.array([[0.50, 0.33, 0], [0.50, 0.33, 0.70], [0, 0.34, 0.30]])\n",
    "print(A)"
   ]
  },
  {
   "cell_type": "code",
   "execution_count": 1139,
   "metadata": {},
   "outputs": [
    {
     "name": "stdout",
     "output_type": "stream",
     "text": [
      "[30. 40. 30.]\n"
     ]
    }
   ],
   "source": [
    "B = np.array([0.30, 0.40, 0.30]) * 100\n",
    "print(B)"
   ]
  },
  {
   "cell_type": "code",
   "execution_count": 1140,
   "metadata": {},
   "outputs": [
    {
     "name": "stdout",
     "output_type": "stream",
     "text": [
      "[10.08403361 75.6302521  14.28571429]\n",
      "100.0\n"
     ]
    }
   ],
   "source": [
    "F = linalg.inv(A) @ B\n",
    "print(F)\n",
    "print(sum(F))"
   ]
  },
  {
   "attachments": {},
   "cell_type": "markdown",
   "metadata": {},
   "source": [
    "### Problema Proposto 5.2"
   ]
  },
  {
   "cell_type": "code",
   "execution_count": 1141,
   "metadata": {},
   "outputs": [],
   "source": [
    "Qin, Q32, Q43 = 10, 5, 3\n",
    "V1, V2, V3, V4 = 25, 75, 100, 25\n",
    "k1, k2, k3, k4 = 0.075, 0.15, 0.4, 0.1\n",
    "Cain = 1"
   ]
  },
  {
   "cell_type": "code",
   "execution_count": 1142,
   "metadata": {},
   "outputs": [
    {
     "name": "stdout",
     "output_type": "stream",
     "text": [
      "[[-1  0  0  0]\n",
      " [ 1 -1  0  0]\n",
      " [ 0  1 -1  0]\n",
      " [ 0  0  1 -1]]\n"
     ]
    }
   ],
   "source": [
    "A = np.array([\n",
    "    [-1, 0, 0, 0],\n",
    "    [1, -1, 0, 0],\n",
    "    [0, 1, -1, 0],\n",
    "    [0, 0, 1, -1]\n",
    "])\n",
    "print(A)"
   ]
  },
  {
   "cell_type": "code",
   "execution_count": 1143,
   "metadata": {},
   "outputs": [
    {
     "name": "stdout",
     "output_type": "stream",
     "text": [
      "[-10  -5   2   3]\n"
     ]
    }
   ],
   "source": [
    "B = np.array([-Qin, -Q32, -Q43+Q32, Q43])\n",
    "print(B)"
   ]
  },
  {
   "cell_type": "code",
   "execution_count": 1144,
   "metadata": {},
   "outputs": [
    {
     "name": "stdout",
     "output_type": "stream",
     "text": [
      "[10. 15. 13. 10.]\n"
     ]
    }
   ],
   "source": [
    "Q = linalg.inv(A) @ B\n",
    "print(Q)\n",
    "Q12, Q23, Q34, Qout = Q"
   ]
  },
  {
   "cell_type": "code",
   "execution_count": 1145,
   "metadata": {},
   "outputs": [
    {
     "name": "stdout",
     "output_type": "stream",
     "text": [
      "[[-11.875   0.      0.      0.   ]\n",
      " [ 10.    -26.25    5.      0.   ]\n",
      " [  0.     15.    -58.      3.   ]\n",
      " [  0.      0.     13.    -15.5  ]]\n"
     ]
    }
   ],
   "source": [
    "A = np.array([\n",
    "    [-Q12-k1*V1, 0, 0, 0],\n",
    "    [Q12, -Q23-k2*V2, Q32, 0],\n",
    "    [0, Q23, -Q34-Q32-k3*V3, Q43],\n",
    "    [0, 0, Q34, -Qout-Q43-k4*V4]\n",
    "])\n",
    "print(A)"
   ]
  },
  {
   "cell_type": "code",
   "execution_count": 1146,
   "metadata": {},
   "outputs": [
    {
     "name": "stdout",
     "output_type": "stream",
     "text": [
      "[-10   0   0   0]\n"
     ]
    }
   ],
   "source": [
    "B = np.array([-Qin*Cain, 0, 0, 0])\n",
    "print(B)"
   ]
  },
  {
   "cell_type": "code",
   "execution_count": 1147,
   "metadata": {},
   "outputs": [
    {
     "name": "stdout",
     "output_type": "stream",
     "text": [
      "[0.84210526 0.33821858 0.091437   0.0766891 ]\n"
     ]
    }
   ],
   "source": [
    "C = linalg.inv(A) @ B\n",
    "print(C)"
   ]
  },
  {
   "attachments": {},
   "cell_type": "markdown",
   "metadata": {},
   "source": [
    "### Problema Proposto 5.3"
   ]
  },
  {
   "cell_type": "code",
   "execution_count": 1148,
   "metadata": {},
   "outputs": [],
   "source": [
    "def f(x):\n",
    "    Ca, Cb, Cc, Cd = x\n",
    "    Cain, Cbin, Ccin, Cdin = 0.7, 0.4, 0, 0\n",
    "    F = 5 / 60\n",
    "    k = 0.855\n",
    "    V = 40\n",
    "    ua = F*(Cain - Ca) - k*Ca*Cb*V\n",
    "    ub = F*(Cbin - Cb) - k*Ca*Cb*V\n",
    "    uc = F*(Ccin - Cc) + k*Ca*Cb*V\n",
    "    ud = F*(Cdin - Cd) + k*Ca*Cb*V\n",
    "    return [ua, ub, uc, ud]"
   ]
  },
  {
   "cell_type": "code",
   "execution_count": 1149,
   "metadata": {},
   "outputs": [],
   "source": [
    "def df(x):\n",
    "    Ca, Cb, Cc, Cd = x\n",
    "    # Cain, Cbin, Ccin, Cdin = 0.7, 0.4, 0, 0\n",
    "    F = 5 / 60\n",
    "    k = 0.855\n",
    "    V = 40\n",
    "    dua_dCa = -F - k*Cb*V\n",
    "    dua_dCb = -k*Ca*V\n",
    "    dua_dCc = 0\n",
    "    dua_dCd = 0\n",
    "    dub_dCa = -k*Cb*V\n",
    "    dub_dCb = -F - k*Ca*V\n",
    "    dub_dCc = 0\n",
    "    dub_dCd = 0\n",
    "    duc_dCa = k*Cb*V\n",
    "    duc_dCb = k*Ca*V\n",
    "    duc_dCc = -F\n",
    "    duc_dCd = 0\n",
    "    dud_dCa = k*Cb*V\n",
    "    dud_dCb = k*Ca*V\n",
    "    dud_dCc = 0\n",
    "    dud_dCd = -F\n",
    "    return [\n",
    "        [dua_dCa, dua_dCb, dua_dCc, dua_dCd],\n",
    "        [dub_dCa, dub_dCb, dub_dCc, dub_dCd],\n",
    "        [duc_dCa, duc_dCb, duc_dCc, duc_dCd],\n",
    "        [dud_dCa, dud_dCb, dud_dCc, dud_dCd]\n",
    "    ]"
   ]
  },
  {
   "cell_type": "code",
   "execution_count": 1150,
   "metadata": {},
   "outputs": [
    {
     "name": "stdout",
     "output_type": "stream",
     "text": [
      "[[-13.763333333333335, -23.939999999999998, 0, 0], [-13.680000000000001, -24.02333333333333, 0, 0], [13.680000000000001, 23.939999999999998, -0.08333333333333333, 0], [13.680000000000001, 23.939999999999998, 0, -0.08333333333333333]]\n",
      "[[-13.76333333334756, -23.940000000006734, 0.0, 0.0], [-13.68000000001146, -24.023333333342833, 0.0, 0.0], [13.68000000001146, 23.940000000006734, -0.08333333333609971, 0.0], [13.68000000001146, 23.940000000006734, 0.0, -0.08333333333609971]]\n"
     ]
    }
   ],
   "source": [
    "x = [0.7, 0.4, 0, 0]\n",
    "a = df(x)\n",
    "print(a)\n",
    "b = diff(f, x, 1e-4)\n",
    "print(b)"
   ]
  },
  {
   "cell_type": "code",
   "execution_count": 1151,
   "metadata": {},
   "outputs": [
    {
     "name": "stdout",
     "output_type": "stream",
     "text": [
      "0 [0.700001, 0.4, 0, 0]\n",
      "1 [0.44601815144756035, 0.14601715144754623, 0.253982848552468, 0.2539828485524609]\n",
      "2 [0.3375060578719658, 0.03750505787196501, 0.3624949421280341, 0.36249494154977135]\n",
      "3 [0.3063099380446022, 0.006308938023820709, 0.3936910619553986, 0.39369106195539816]\n",
      "4 [0.3032209555749126, 0.0032199555749126505, 0.39678004442508735, 0.39678004442508735]\n",
      "5 [0.3031900635814098, 0.0031890635814099183, 0.3968109364185901, 0.3968109364185901]\n",
      "6 [0.30319006049115854, 0.0031890604911586143, 0.3968109395088414, 0.3968109395088414]\n",
      "7 [0.3031900604911585, 0.003189060491158584, 0.39681093950884144, 0.39681093950884144]\n",
      "8 [0.3031900604911585, 0.003189060491158584, 0.39681093950884144, 0.39681093950884144]\n",
      "9 [0.3031900604911585, 0.003189060491158584, 0.39681093950884144, 0.39681093950884144]\n",
      "10 [0.3031890604911585, 0.003189060491158584, 0.39681093950884144, 0.39681093950884144]\n",
      "9.999999999177334e-07\n"
     ]
    }
   ],
   "source": [
    "C = newton_rhapson(f, [0.7, 0.4, 0, 0], i_max = 10)\n",
    "for i, v in enumerate(C):\n",
    "    print(i, v)\n",
    "print(sum(C[0]) - sum(C[-1]))"
   ]
  },
  {
   "attachments": {},
   "cell_type": "markdown",
   "metadata": {},
   "source": [
    "# Capítulo 6"
   ]
  },
  {
   "attachments": {},
   "cell_type": "markdown",
   "metadata": {},
   "source": [
    "Método de Euler"
   ]
  },
  {
   "cell_type": "code",
   "execution_count": 1152,
   "metadata": {},
   "outputs": [],
   "source": [
    "# WIP\n",
    "def euler(f, IC, int, N):\n",
    "    x = np.linspace(int[0], int[-1], N + 1)\n",
    "    h = x[1] - x[0]\n",
    "    y = np.array(IC.copy())\n",
    "    y_out = list()\n",
    "    for i in range(len(x)):\n",
    "        y_out.append(y)\n",
    "        k1 = h * np.array(f(x[i], y))\n",
    "        y = y + k1\n",
    "    return np.hstack(x[:, np.newaxis], y)"
   ]
  }
 ],
 "metadata": {
  "kernelspec": {
   "display_name": "Python 3",
   "language": "python",
   "name": "python3"
  },
  "language_info": {
   "codemirror_mode": {
    "name": "ipython",
    "version": 3
   },
   "file_extension": ".py",
   "mimetype": "text/x-python",
   "name": "python",
   "nbconvert_exporter": "python",
   "pygments_lexer": "ipython3",
   "version": "3.10.6"
  },
  "orig_nbformat": 4
 },
 "nbformat": 4,
 "nbformat_minor": 2
}
